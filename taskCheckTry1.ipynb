{
 "cells": [
  {
   "cell_type": "code",
   "execution_count": 1,
   "metadata": {},
   "outputs": [],
   "source": [
    "import nltk"
   ]
  },
  {
   "cell_type": "code",
   "execution_count": 2,
   "metadata": {},
   "outputs": [],
   "source": [
    "#nltk.download()"
   ]
  },
  {
   "cell_type": "code",
   "execution_count": 3,
   "metadata": {},
   "outputs": [],
   "source": [
    "from nltk.corpus import brown"
   ]
  },
  {
   "cell_type": "code",
   "execution_count": 4,
   "metadata": {},
   "outputs": [
    {
     "data": {
      "text/plain": [
       "['The', 'Fulton', 'County', 'Grand', 'Jury', 'said', ...]"
      ]
     },
     "execution_count": 4,
     "metadata": {},
     "output_type": "execute_result"
    }
   ],
   "source": [
    "brown.words()"
   ]
  },
  {
   "cell_type": "code",
   "execution_count": 5,
   "metadata": {},
   "outputs": [],
   "source": [
    "from nltk.corpus import stopwords\n",
    "from string import punctuation"
   ]
  },
  {
   "cell_type": "code",
   "execution_count": 6,
   "metadata": {},
   "outputs": [
    {
     "name": "stdout",
     "output_type": "stream",
     "text": [
      "['и', 'в', 'во', 'не', 'что', 'он', 'на', 'я', 'с', 'со', 'как', 'а', 'то', 'все', 'она', 'так', 'его', 'но', 'да', 'ты', 'к', 'у', 'же', 'вы', 'за', 'бы', 'по', 'только', 'ее', 'мне', 'было', 'вот', 'от', 'меня', 'еще', 'нет', 'о', 'из', 'ему', 'теперь', 'когда', 'даже', 'ну', 'вдруг', 'ли', 'если', 'уже', 'или', 'ни', 'быть', 'был', 'него', 'до', 'вас', 'нибудь', 'опять', 'уж', 'вам', 'ведь', 'там', 'потом', 'себя', 'ничего', 'ей', 'может', 'они', 'тут', 'где', 'есть', 'надо', 'ней', 'для', 'мы', 'тебя', 'их', 'чем', 'была', 'сам', 'чтоб', 'без', 'будто', 'чего', 'раз', 'тоже', 'себе', 'под', 'будет', 'ж', 'тогда', 'кто', 'этот', 'того', 'потому', 'этого', 'какой', 'совсем', 'ним', 'здесь', 'этом', 'один', 'почти', 'мой', 'тем', 'чтобы', 'нее', 'сейчас', 'были', 'куда', 'зачем', 'всех', 'никогда', 'можно', 'при', 'наконец', 'два', 'об', 'другой', 'хоть', 'после', 'над', 'больше', 'тот', 'через', 'эти', 'нас', 'про', 'всего', 'них', 'какая', 'много', 'разве', 'три', 'эту', 'моя', 'впрочем', 'хорошо', 'свою', 'этой', 'перед', 'иногда', 'лучше', 'чуть', 'том', 'нельзя', 'такой', 'им', 'более', 'всегда', 'конечно', 'всю', 'между']\n"
     ]
    }
   ],
   "source": [
    "russian_stopwords = stopwords.words(\"russian\")\n",
    "print(russian_stopwords)"
   ]
  },
  {
   "cell_type": "code",
   "execution_count": 7,
   "metadata": {},
   "outputs": [],
   "source": [
    "tokens = \"O Обозначилась ошибка у вас третьего дня,там жду решения Так то\""
   ]
  },
  {
   "cell_type": "code",
   "execution_count": 8,
   "metadata": {},
   "outputs": [
    {
     "name": "stdout",
     "output_type": "stream",
     "text": [
      "False\n"
     ]
    }
   ],
   "source": [
    "tokens.lower()\n",
    "print('O'in stopwords.words(\"russian\"))"
   ]
  },
  {
   "cell_type": "code",
   "execution_count": 9,
   "metadata": {},
   "outputs": [
    {
     "name": "stdout",
     "output_type": "stream",
     "text": [
      "хорошенько\n"
     ]
    },
    {
     "data": {
      "text/plain": [
       "'хорош'"
      ]
     },
     "execution_count": 9,
     "metadata": {},
     "output_type": "execute_result"
    }
   ],
   "source": [
    "ps = nltk.PorterStemmer()\n",
    "ps.stem('хорошенько')\n",
    "from nltk.stem import WordNetLemmatizer \n",
    "# Init the Wordnet Lemmatizer\n",
    "lemmatizer = WordNetLemmatizer()\n",
    "# Lemmatize Single Word\n",
    "print(lemmatizer.lemmatize(\"хорошенько\"))\n",
    "from nltk.stem.snowball import SnowballStemmer \n",
    "stemmer = SnowballStemmer(\"russian\") \n",
    "stemmer.stem(\"хорошо\")"
   ]
  },
  {
   "cell_type": "code",
   "execution_count": 10,
   "metadata": {},
   "outputs": [
    {
     "name": "stdout",
     "output_type": "stream",
     "text": [
      "\n"
     ]
    }
   ],
   "source": [
    "print()"
   ]
  },
  {
   "cell_type": "code",
   "execution_count": 11,
   "metadata": {},
   "outputs": [
    {
     "name": "stdout",
     "output_type": "stream",
     "text": [
      "обознач ошибк трет дня жду цифров решен\n",
      "True\n"
     ]
    }
   ],
   "source": [
    "tokens = 'О Обозначилась ошибка у вас третьего дня,там жду \"цифрового\"решения  Так то.'\n",
    "from nltk.stem.snowball import SnowballStemmer \n",
    "stemmer = SnowballStemmer(\"russian\") \n",
    "stemmer.stem(\"хорошо\")\n",
    "def preprocess_str(string):\n",
    "    string = string.lower()\n",
    "    for w in string:\n",
    "        if w in punctuation:\n",
    "            string =string.replace(w,\" \")\n",
    "    tokens = string.split(' ')\n",
    "    tokens = [token for token in tokens if token not in stopwords.words(\"russian\") \n",
    "             ]\n",
    "    tokens = [stemmer.stem(token) for token in tokens ]\n",
    "    while '' in tokens: \n",
    "        tokens.remove('')\n",
    "        \n",
    "    #return tokens\n",
    "    return ' '.join(tokens)\n",
    "print(preprocess_str(tokens))\n",
    "print('' in preprocess_str(tokens))"
   ]
  },
  {
   "cell_type": "code",
   "execution_count": 12,
   "metadata": {},
   "outputs": [],
   "source": [
    "import pandas as pd\n",
    "df = pd.read_excel('C:\\\\Users\\\\n.pugachev\\\\Desktop\\\\nlp_support_project\\\\СписокЗаявокДляАнализаML.xls')"
   ]
  },
  {
   "cell_type": "code",
   "execution_count": 13,
   "metadata": {
    "scrolled": true
   },
   "outputs": [
    {
     "name": "stderr",
     "output_type": "stream",
     "text": [
      "C:\\Users\\n.pugachev\\AppData\\Local\\Continuum\\anaconda3\\envs\\NLP_env\\lib\\site-packages\\ipykernel_launcher.py:7: SettingWithCopyWarning: \n",
      "A value is trying to be set on a copy of a slice from a DataFrame.\n",
      "Try using .loc[row_indexer,col_indexer] = value instead\n",
      "\n",
      "See the caveats in the documentation: http://pandas.pydata.org/pandas-docs/stable/indexing.html#indexing-view-versus-copy\n",
      "  import sys\n",
      "C:\\Users\\n.pugachev\\AppData\\Local\\Continuum\\anaconda3\\envs\\NLP_env\\lib\\site-packages\\pandas\\core\\frame.py:3385: SettingWithCopyWarning: \n",
      "A value is trying to be set on a copy of a slice from a DataFrame\n",
      "\n",
      "See the caveats in the documentation: http://pandas.pydata.org/pandas-docs/stable/indexing.html#indexing-view-versus-copy\n",
      "  self.loc._setitem_with_indexer(indexer, value)\n",
      "C:\\Users\\n.pugachev\\AppData\\Local\\Continuum\\anaconda3\\envs\\NLP_env\\lib\\site-packages\\pandas\\core\\frame.py:3367: SettingWithCopyWarning: \n",
      "A value is trying to be set on a copy of a slice from a DataFrame\n",
      "\n",
      "See the caveats in the documentation: http://pandas.pydata.org/pandas-docs/stable/indexing.html#indexing-view-versus-copy\n",
      "  self._setitem_array(key, value)\n"
     ]
    },
    {
     "name": "stdout",
     "output_type": "stream",
     "text": [
      "22966\n",
      "22886\n"
     ]
    },
    {
     "name": "stderr",
     "output_type": "stream",
     "text": [
      "C:\\Users\\n.pugachev\\AppData\\Local\\Continuum\\anaconda3\\envs\\NLP_env\\lib\\site-packages\\ipykernel_launcher.py:8: SettingWithCopyWarning: \n",
      "A value is trying to be set on a copy of a slice from a DataFrame.\n",
      "Try using .loc[row_indexer,col_indexer] = value instead\n",
      "\n",
      "See the caveats in the documentation: http://pandas.pydata.org/pandas-docs/stable/indexing.html#indexing-view-versus-copy\n",
      "  \n",
      "C:\\Users\\n.pugachev\\AppData\\Local\\Continuum\\anaconda3\\envs\\NLP_env\\lib\\site-packages\\ipykernel_launcher.py:9: SettingWithCopyWarning: \n",
      "A value is trying to be set on a copy of a slice from a DataFrame.\n",
      "Try using .loc[row_indexer,col_indexer] = value instead\n",
      "\n",
      "See the caveats in the documentation: http://pandas.pydata.org/pandas-docs/stable/indexing.html#indexing-view-versus-copy\n",
      "  if __name__ == '__main__':\n",
      "C:\\Users\\n.pugachev\\AppData\\Local\\Continuum\\anaconda3\\envs\\NLP_env\\lib\\site-packages\\ipykernel_launcher.py:10: SettingWithCopyWarning: \n",
      "A value is trying to be set on a copy of a slice from a DataFrame.\n",
      "Try using .loc[row_indexer,col_indexer] = value instead\n",
      "\n",
      "See the caveats in the documentation: http://pandas.pydata.org/pandas-docs/stable/indexing.html#indexing-view-versus-copy\n",
      "  # Remove the CWD from sys.path while we load stuff.\n"
     ]
    }
   ],
   "source": [
    "df.head()\n",
    "\n",
    "#data = df['ЗаявкаОписание'].copy()\n",
    "data  = df[['ЗаявкаОписание','ЗаявкаКатегория','ЗаявкаВид']]\n",
    "#,df['ЗаявкаКатегория'],df['ЗаявкаВид']]\n",
    "#df2 = pd.DataFrame([[5, 6], [7, 8]], columns=list('AB'))\n",
    "data[data['ЗаявкаКатегория']==\"\"] = \"\"\n",
    "data['ЗаявкаОписание'] = data['ЗаявкаОписание'].astype('str')\n",
    "data['ЗаявкаКатегория']=data['ЗаявкаКатегория'].astype('str')\n",
    "data['ЗаявкаВид']=data['ЗаявкаВид'].astype('str')\n",
    "#df.drop([0, 1])\n",
    "print(len(data))\n",
    "data= data[(data['ЗаявкаВид']!='Заявка на проект')]\n",
    "data = data[(data['ЗаявкаВид']!='Организация релиза')]\n",
    "print(len(data))"
   ]
  },
  {
   "cell_type": "code",
   "execution_count": 14,
   "metadata": {},
   "outputs": [
    {
     "name": "stderr",
     "output_type": "stream",
     "text": [
      "C:\\Users\\n.pugachev\\AppData\\Local\\Continuum\\anaconda3\\envs\\NLP_env\\lib\\site-packages\\ipykernel_launcher.py:2: FutureWarning: set_value is deprecated and will be removed in a future release. Please use .at[] or .iat[] accessors instead\n",
      "  \n"
     ]
    }
   ],
   "source": [
    "#data[(data['ЗаявкаКатегория' == 'Закупка']).ЗаявкаВид = 'Закупка'\n",
    "data = data.set_value(data[(data['ЗаявкаКатегория'] == 'Закупка')].index,'ЗаявкаВид','Закупка')\n",
    "#df.set_value(  df  [(df['b']>                 0.5)      ].index,'b',3 )"
   ]
  },
  {
   "cell_type": "code",
   "execution_count": 15,
   "metadata": {},
   "outputs": [
    {
     "data": {
      "text/html": [
       "<div>\n",
       "<style scoped>\n",
       "    .dataframe tbody tr th:only-of-type {\n",
       "        vertical-align: middle;\n",
       "    }\n",
       "\n",
       "    .dataframe tbody tr th {\n",
       "        vertical-align: top;\n",
       "    }\n",
       "\n",
       "    .dataframe thead th {\n",
       "        text-align: right;\n",
       "    }\n",
       "</style>\n",
       "<table border=\"1\" class=\"dataframe\">\n",
       "  <thead>\n",
       "    <tr style=\"text-align: right;\">\n",
       "      <th></th>\n",
       "      <th>ЗаявкаОписание</th>\n",
       "      <th>ЗаявкаКатегория</th>\n",
       "      <th>ЗаявкаВид</th>\n",
       "    </tr>\n",
       "  </thead>\n",
       "  <tbody>\n",
       "    <tr>\n",
       "      <th>0</th>\n",
       "      <td>Ежедневный контроль работоспособности систем в...</td>\n",
       "      <td>ПО и оборудование</td>\n",
       "      <td>Запрос на обслуживание (настройка рабочего мес...</td>\n",
       "    </tr>\n",
       "    <tr>\n",
       "      <th>1</th>\n",
       "      <td>В связи с увольнением прошу принять ноутбук на...</td>\n",
       "      <td>ПО и оборудование</td>\n",
       "      <td>Запрос на обслуживание (настройка рабочего мес...</td>\n",
       "    </tr>\n",
       "    <tr>\n",
       "      <th>2</th>\n",
       "      <td>не выбирается название в графе \"перевозчик\"</td>\n",
       "      <td>Информационные системы</td>\n",
       "      <td>Ошибка в работе информационной системы (некорр...</td>\n",
       "    </tr>\n",
       "    <tr>\n",
       "      <th>3</th>\n",
       "      <td>При выписке пропуска, при выборе организации И...</td>\n",
       "      <td>Информационные системы</td>\n",
       "      <td>Ошибка в работе информационной системы (некорр...</td>\n",
       "    </tr>\n",
       "    <tr>\n",
       "      <th>4</th>\n",
       "      <td>При выписке документов  в программе УТ БД 1С П...</td>\n",
       "      <td>Информационные системы</td>\n",
       "      <td>Ошибка в работе информационной системы (некорр...</td>\n",
       "    </tr>\n",
       "  </tbody>\n",
       "</table>\n",
       "</div>"
      ],
      "text/plain": [
       "                                      ЗаявкаОписание         ЗаявкаКатегория  \\\n",
       "0  Ежедневный контроль работоспособности систем в...       ПО и оборудование   \n",
       "1  В связи с увольнением прошу принять ноутбук на...       ПО и оборудование   \n",
       "2        не выбирается название в графе \"перевозчик\"  Информационные системы   \n",
       "3  При выписке пропуска, при выборе организации И...  Информационные системы   \n",
       "4  При выписке документов  в программе УТ БД 1С П...  Информационные системы   \n",
       "\n",
       "                                           ЗаявкаВид  \n",
       "0  Запрос на обслуживание (настройка рабочего мес...  \n",
       "1  Запрос на обслуживание (настройка рабочего мес...  \n",
       "2  Ошибка в работе информационной системы (некорр...  \n",
       "3  Ошибка в работе информационной системы (некорр...  \n",
       "4  Ошибка в работе информационной системы (некорр...  "
      ]
     },
     "execution_count": 15,
     "metadata": {},
     "output_type": "execute_result"
    }
   ],
   "source": [
    "data.head()"
   ]
  },
  {
   "cell_type": "code",
   "execution_count": 16,
   "metadata": {},
   "outputs": [
    {
     "data": {
      "text/html": [
       "<div>\n",
       "<style scoped>\n",
       "    .dataframe tbody tr th:only-of-type {\n",
       "        vertical-align: middle;\n",
       "    }\n",
       "\n",
       "    .dataframe tbody tr th {\n",
       "        vertical-align: top;\n",
       "    }\n",
       "\n",
       "    .dataframe thead th {\n",
       "        text-align: right;\n",
       "    }\n",
       "</style>\n",
       "<table border=\"1\" class=\"dataframe\">\n",
       "  <thead>\n",
       "    <tr style=\"text-align: right;\">\n",
       "      <th></th>\n",
       "      <th>ЗаявкаОписание</th>\n",
       "      <th>ЗаявкаКатегория</th>\n",
       "      <th>ЗаявкаВид</th>\n",
       "    </tr>\n",
       "  </thead>\n",
       "  <tbody>\n",
       "    <tr>\n",
       "      <th>count</th>\n",
       "      <td>22886</td>\n",
       "      <td>22886</td>\n",
       "      <td>22886</td>\n",
       "    </tr>\n",
       "    <tr>\n",
       "      <th>unique</th>\n",
       "      <td>21525</td>\n",
       "      <td>3</td>\n",
       "      <td>7</td>\n",
       "    </tr>\n",
       "    <tr>\n",
       "      <th>top</th>\n",
       "      <td>Ежедневный контроль работоспособности систем в...</td>\n",
       "      <td>ПО и оборудование</td>\n",
       "      <td>Запрос на обслуживание (настройка рабочего мес...</td>\n",
       "    </tr>\n",
       "    <tr>\n",
       "      <th>freq</th>\n",
       "      <td>117</td>\n",
       "      <td>13272</td>\n",
       "      <td>8239</td>\n",
       "    </tr>\n",
       "  </tbody>\n",
       "</table>\n",
       "</div>"
      ],
      "text/plain": [
       "                                           ЗаявкаОписание    ЗаявкаКатегория  \\\n",
       "count                                               22886              22886   \n",
       "unique                                              21525                  3   \n",
       "top     Ежедневный контроль работоспособности систем в...  ПО и оборудование   \n",
       "freq                                                  117              13272   \n",
       "\n",
       "                                                ЗаявкаВид  \n",
       "count                                               22886  \n",
       "unique                                                  7  \n",
       "top     Запрос на обслуживание (настройка рабочего мес...  \n",
       "freq                                                 8239  "
      ]
     },
     "execution_count": 16,
     "metadata": {},
     "output_type": "execute_result"
    }
   ],
   "source": [
    "data.describe()"
   ]
  },
  {
   "cell_type": "code",
   "execution_count": 17,
   "metadata": {},
   "outputs": [
    {
     "name": "stdout",
     "output_type": "stream",
     "text": [
      "<class 'pandas.core.frame.DataFrame'>\n",
      "Int64Index: 22886 entries, 0 to 22965\n",
      "Data columns (total 3 columns):\n",
      "ЗаявкаОписание     22886 non-null object\n",
      "ЗаявкаКатегория    22886 non-null object\n",
      "ЗаявкаВид          22886 non-null object\n",
      "dtypes: object(3)\n",
      "memory usage: 1.3+ MB\n"
     ]
    }
   ],
   "source": [
    "data.info()"
   ]
  },
  {
   "cell_type": "code",
   "execution_count": 18,
   "metadata": {},
   "outputs": [],
   "source": [
    "data['text_format'] = data['ЗаявкаОписание'].apply(preprocess_str)"
   ]
  },
  {
   "cell_type": "code",
   "execution_count": 19,
   "metadata": {},
   "outputs": [
    {
     "data": {
      "text/plain": [
       "0    ежедневн контрол работоспособн сист видеонаблюден\n",
       "1               связ увольнен прош приня ноутбук склад\n",
       "2                        выбира назван граф перевозчик\n",
       "3    выписк пропуск выбор организац ип михайленк юр...\n",
       "4    выписк документ программ ут бд 1с предприят вм...\n",
       "Name: text_format, dtype: object"
      ]
     },
     "execution_count": 19,
     "metadata": {},
     "output_type": "execute_result"
    }
   ],
   "source": [
    "data['text_format'].head()"
   ]
  },
  {
   "cell_type": "code",
   "execution_count": 20,
   "metadata": {},
   "outputs": [],
   "source": [
    "import matplotlib.pyplot as plt\n",
    "%matplotlib inline\n",
    "from sklearn.feature_extraction.text import TfidfVectorizer, CountVectorizer\n",
    "from sklearn.cluster import KMeans\n",
    "from sklearn.metrics.pairwise import cosine_similarity\n",
    "from sklearn.manifold import MDS, TSNE"
   ]
  },
  {
   "cell_type": "code",
   "execution_count": 21,
   "metadata": {},
   "outputs": [
    {
     "data": {
      "text/html": [
       "<div>\n",
       "<style scoped>\n",
       "    .dataframe tbody tr th:only-of-type {\n",
       "        vertical-align: middle;\n",
       "    }\n",
       "\n",
       "    .dataframe tbody tr th {\n",
       "        vertical-align: top;\n",
       "    }\n",
       "\n",
       "    .dataframe thead th {\n",
       "        text-align: right;\n",
       "    }\n",
       "</style>\n",
       "<table border=\"1\" class=\"dataframe\">\n",
       "  <thead>\n",
       "    <tr style=\"text-align: right;\">\n",
       "      <th></th>\n",
       "      <th>ЗаявкаОписание</th>\n",
       "      <th>ЗаявкаКатегория</th>\n",
       "      <th>ЗаявкаВид</th>\n",
       "      <th>text_format</th>\n",
       "    </tr>\n",
       "  </thead>\n",
       "  <tbody>\n",
       "    <tr>\n",
       "      <th>count</th>\n",
       "      <td>22886</td>\n",
       "      <td>22886</td>\n",
       "      <td>22886</td>\n",
       "      <td>22886</td>\n",
       "    </tr>\n",
       "    <tr>\n",
       "      <th>unique</th>\n",
       "      <td>21525</td>\n",
       "      <td>3</td>\n",
       "      <td>7</td>\n",
       "      <td>21208</td>\n",
       "    </tr>\n",
       "    <tr>\n",
       "      <th>top</th>\n",
       "      <td>Ежедневный контроль работоспособности систем в...</td>\n",
       "      <td>ПО и оборудование</td>\n",
       "      <td>Запрос на обслуживание (настройка рабочего мес...</td>\n",
       "      <td>ежедневн контрол работоспособн сист видеонаблюден</td>\n",
       "    </tr>\n",
       "    <tr>\n",
       "      <th>freq</th>\n",
       "      <td>117</td>\n",
       "      <td>13272</td>\n",
       "      <td>8239</td>\n",
       "      <td>117</td>\n",
       "    </tr>\n",
       "  </tbody>\n",
       "</table>\n",
       "</div>"
      ],
      "text/plain": [
       "                                           ЗаявкаОписание    ЗаявкаКатегория  \\\n",
       "count                                               22886              22886   \n",
       "unique                                              21525                  3   \n",
       "top     Ежедневный контроль работоспособности систем в...  ПО и оборудование   \n",
       "freq                                                  117              13272   \n",
       "\n",
       "                                                ЗаявкаВид  \\\n",
       "count                                               22886   \n",
       "unique                                                  7   \n",
       "top     Запрос на обслуживание (настройка рабочего мес...   \n",
       "freq                                                 8239   \n",
       "\n",
       "                                              text_format  \n",
       "count                                               22886  \n",
       "unique                                              21208  \n",
       "top     ежедневн контрол работоспособн сист видеонаблюден  \n",
       "freq                                                  117  "
      ]
     },
     "execution_count": 21,
     "metadata": {},
     "output_type": "execute_result"
    }
   ],
   "source": [
    "data.describe()"
   ]
  },
  {
   "cell_type": "code",
   "execution_count": 25,
   "metadata": {},
   "outputs": [],
   "source": [
    "data['vectorizer'] = data['text_format'].copy\n",
    "tfidf_vectorizer = TfidfVectorizer( min_df = 0.05)\n",
    "tfidf_matrix = tfidf_vectorizer.fit_transform(data['vectorizer'].astype('str'))\n",
    "tfidf_words = tfidf_vectorizer.get_feature_names()\n"
   ]
  },
  {
   "cell_type": "code",
   "execution_count": 26,
   "metadata": {},
   "outputs": [
    {
     "data": {
      "text/plain": [
       "((22886, 330), 330)"
      ]
     },
     "execution_count": 26,
     "metadata": {},
     "output_type": "execute_result"
    }
   ],
   "source": [
    "tfidf_matrix.shape, len(tfidf_words)"
   ]
  },
  {
   "cell_type": "code",
   "execution_count": null,
   "metadata": {},
   "outputs": [],
   "source": []
  },
  {
   "cell_type": "code",
   "execution_count": null,
   "metadata": {},
   "outputs": [],
   "source": [
    "data.head()"
   ]
  },
  {
   "cell_type": "code",
   "execution_count": 33,
   "metadata": {},
   "outputs": [],
   "source": [
    "#data = data.drop(['vectorizer1'], axis = 1)"
   ]
  },
  {
   "cell_type": "code",
   "execution_count": 27,
   "metadata": {},
   "outputs": [],
   "source": [
    "data['category_id'] = data['ЗаявкаВид'].factorize()[0]"
   ]
  },
  {
   "cell_type": "code",
   "execution_count": 28,
   "metadata": {},
   "outputs": [
    {
     "data": {
      "text/html": [
       "<div>\n",
       "<style scoped>\n",
       "    .dataframe tbody tr th:only-of-type {\n",
       "        vertical-align: middle;\n",
       "    }\n",
       "\n",
       "    .dataframe tbody tr th {\n",
       "        vertical-align: top;\n",
       "    }\n",
       "\n",
       "    .dataframe thead th {\n",
       "        text-align: right;\n",
       "    }\n",
       "</style>\n",
       "<table border=\"1\" class=\"dataframe\">\n",
       "  <thead>\n",
       "    <tr style=\"text-align: right;\">\n",
       "      <th></th>\n",
       "      <th>ЗаявкаОписание</th>\n",
       "      <th>ЗаявкаКатегория</th>\n",
       "      <th>ЗаявкаВид</th>\n",
       "      <th>text_format</th>\n",
       "      <th>vectorizer</th>\n",
       "      <th>category_id</th>\n",
       "    </tr>\n",
       "  </thead>\n",
       "  <tbody>\n",
       "    <tr>\n",
       "      <th>0</th>\n",
       "      <td>Ежедневный контроль работоспособности систем в...</td>\n",
       "      <td>ПО и оборудование</td>\n",
       "      <td>Запрос на обслуживание (настройка рабочего мес...</td>\n",
       "      <td>ежедневн контрол работоспособн сист видеонаблюден</td>\n",
       "      <td>&lt;bound method NDFrame.copy of 0        ежеднев...</td>\n",
       "      <td>0</td>\n",
       "    </tr>\n",
       "    <tr>\n",
       "      <th>1</th>\n",
       "      <td>В связи с увольнением прошу принять ноутбук на...</td>\n",
       "      <td>ПО и оборудование</td>\n",
       "      <td>Запрос на обслуживание (настройка рабочего мес...</td>\n",
       "      <td>связ увольнен прош приня ноутбук склад</td>\n",
       "      <td>&lt;bound method NDFrame.copy of 0        ежеднев...</td>\n",
       "      <td>0</td>\n",
       "    </tr>\n",
       "    <tr>\n",
       "      <th>2</th>\n",
       "      <td>не выбирается название в графе \"перевозчик\"</td>\n",
       "      <td>Информационные системы</td>\n",
       "      <td>Ошибка в работе информационной системы (некорр...</td>\n",
       "      <td>выбира назван граф перевозчик</td>\n",
       "      <td>&lt;bound method NDFrame.copy of 0        ежеднев...</td>\n",
       "      <td>1</td>\n",
       "    </tr>\n",
       "    <tr>\n",
       "      <th>3</th>\n",
       "      <td>При выписке пропуска, при выборе организации И...</td>\n",
       "      <td>Информационные системы</td>\n",
       "      <td>Ошибка в работе информационной системы (некорр...</td>\n",
       "      <td>выписк пропуск выбор организац ип михайленк юр...</td>\n",
       "      <td>&lt;bound method NDFrame.copy of 0        ежеднев...</td>\n",
       "      <td>1</td>\n",
       "    </tr>\n",
       "    <tr>\n",
       "      <th>4</th>\n",
       "      <td>При выписке документов  в программе УТ БД 1С П...</td>\n",
       "      <td>Информационные системы</td>\n",
       "      <td>Ошибка в работе информационной системы (некорр...</td>\n",
       "      <td>выписк документ программ ут бд 1с предприят вм...</td>\n",
       "      <td>&lt;bound method NDFrame.copy of 0        ежеднев...</td>\n",
       "      <td>1</td>\n",
       "    </tr>\n",
       "  </tbody>\n",
       "</table>\n",
       "</div>"
      ],
      "text/plain": [
       "                                      ЗаявкаОписание         ЗаявкаКатегория  \\\n",
       "0  Ежедневный контроль работоспособности систем в...       ПО и оборудование   \n",
       "1  В связи с увольнением прошу принять ноутбук на...       ПО и оборудование   \n",
       "2        не выбирается название в графе \"перевозчик\"  Информационные системы   \n",
       "3  При выписке пропуска, при выборе организации И...  Информационные системы   \n",
       "4  При выписке документов  в программе УТ БД 1С П...  Информационные системы   \n",
       "\n",
       "                                           ЗаявкаВид  \\\n",
       "0  Запрос на обслуживание (настройка рабочего мес...   \n",
       "1  Запрос на обслуживание (настройка рабочего мес...   \n",
       "2  Ошибка в работе информационной системы (некорр...   \n",
       "3  Ошибка в работе информационной системы (некорр...   \n",
       "4  Ошибка в работе информационной системы (некорр...   \n",
       "\n",
       "                                         text_format  \\\n",
       "0  ежедневн контрол работоспособн сист видеонаблюден   \n",
       "1             связ увольнен прош приня ноутбук склад   \n",
       "2                      выбира назван граф перевозчик   \n",
       "3  выписк пропуск выбор организац ип михайленк юр...   \n",
       "4  выписк документ программ ут бд 1с предприят вм...   \n",
       "\n",
       "                                          vectorizer  category_id  \n",
       "0  <bound method NDFrame.copy of 0        ежеднев...            0  \n",
       "1  <bound method NDFrame.copy of 0        ежеднев...            0  \n",
       "2  <bound method NDFrame.copy of 0        ежеднев...            1  \n",
       "3  <bound method NDFrame.copy of 0        ежеднев...            1  \n",
       "4  <bound method NDFrame.copy of 0        ежеднев...            1  "
      ]
     },
     "execution_count": 28,
     "metadata": {},
     "output_type": "execute_result"
    }
   ],
   "source": [
    "data.head()"
   ]
  },
  {
   "cell_type": "code",
   "execution_count": 29,
   "metadata": {},
   "outputs": [
    {
     "data": {
      "image/png": "[encoded data removed]",
      "text/plain": [
       "<Figure size 576x432 with 1 Axes>"
      ]
     },
     "metadata": {
      "needs_background": "light"
     },
     "output_type": "display_data"
    }
   ],
   "source": [
    "import matplotlib.pyplot as plt\n",
    "fig = plt.figure(figsize=(8,6))\n",
    "data.groupby('ЗаявкаВид').vectorizer.count().plot.bar(ylim=0)\n",
    "plt.show()#добавить закупки(у них пустой вид)"
   ]
  },
  {
   "cell_type": "code",
   "execution_count": 44,
   "metadata": {},
   "outputs": [
    {
     "data": {
      "text/plain": [
       "124"
      ]
     },
     "execution_count": 44,
     "metadata": {},
     "output_type": "execute_result"
    }
   ],
   "source": [
    "data1 = data.groupby('ЗаявкаВид').vectorizer.count()\n",
    "data.groupby('ЗаявкаВид').vectorizer.count()[:].min()\n"
   ]
  },
  {
   "cell_type": "code",
   "execution_count": null,
   "metadata": {},
   "outputs": [],
   "source": [
    "from imblearn.under_sampling import RandomUnderSampler"
   ]
  },
  {
   "cell_type": "code",
   "execution_count": null,
   "metadata": {},
   "outputs": [],
   "source": [
    "#unuderstandable\n",
    "rus = RandomUnderSampler(random_state=0)\n",
    "rus.fit(, y)\n",
    "X_resampled, y_resampled = rus.sample(X, y)\n",
    "colors = ['#ef8a62' if v == 0 else '#f7f7f7' if v == 1 else '#67a9cf' for v in y_resampled]\n",
    "plt.scatter(X_resampled[:, 0], X_resampled[:, 1], c=colors, linewidth=0.5, edgecolor='black')\n",
    "sns.despine()\n",
    "plt.title(\"RandomUnderSampler Output ($n_{class}=64)$\")\n",
    "pass\n",
    "data1.head(100)"
   ]
  },
  {
   "cell_type": "code",
   "execution_count": 31,
   "metadata": {},
   "outputs": [
    {
     "data": {
      "text/plain": [
       "0        0\n",
       "1        0\n",
       "2        1\n",
       "3        1\n",
       "4        1\n",
       "5        0\n",
       "6        0\n",
       "7        2\n",
       "8        0\n",
       "9        0\n",
       "10       3\n",
       "11       0\n",
       "12       2\n",
       "13       0\n",
       "14       0\n",
       "15       0\n",
       "16       0\n",
       "17       4\n",
       "18       0\n",
       "19       0\n",
       "20       0\n",
       "21       3\n",
       "22       5\n",
       "23       3\n",
       "24       3\n",
       "25       0\n",
       "26       0\n",
       "27       2\n",
       "28       0\n",
       "29       4\n",
       "        ..\n",
       "22936    0\n",
       "22937    0\n",
       "22938    0\n",
       "22939    3\n",
       "22940    5\n",
       "22941    0\n",
       "22942    0\n",
       "22943    0\n",
       "22944    3\n",
       "22945    0\n",
       "22946    0\n",
       "22947    2\n",
       "22948    0\n",
       "22949    5\n",
       "22950    0\n",
       "22951    2\n",
       "22952    0\n",
       "22953    1\n",
       "22954    0\n",
       "22955    1\n",
       "22956    1\n",
       "22957    2\n",
       "22958    2\n",
       "22959    2\n",
       "22960    0\n",
       "22961    3\n",
       "22962    4\n",
       "22963    0\n",
       "22964    0\n",
       "22965    0\n",
       "Name: category_id, Length: 22886, dtype: int64"
      ]
     },
     "execution_count": 31,
     "metadata": {},
     "output_type": "execute_result"
    }
   ],
   "source": [
    "data['category_id']\n"
   ]
  },
  {
   "cell_type": "code",
   "execution_count": 223,
   "metadata": {},
   "outputs": [
    {
     "name": "stdout",
     "output_type": "stream",
     "text": [
      "(22886, 330)\n",
      "[(0, 124), (1, 124), (2, 124), (3, 124), (4, 124), (5, 124), (6, 124)]\n",
      "[['Прошу установить на ноутбуке программу Консультант Плюс.'\n",
      "  'ПО и оборудование'\n",
      "  'Запрос на обслуживание (настройка рабочего места, предоставление доступа, установка ПО)'\n",
      "  'прош установ ноутбук программ консультант плюс'\n",
      "  <bound method NDFrame.copy of 0        ежедневн контрол работоспособн сист видеонаблюден\n",
      "1                   связ увольнен прош приня ноутбук склад\n",
      "2                            выбира назван граф перевозчик\n",
      "3        выписк пропуск выбор организац ип михайленк юр...\n",
      "4        выписк документ программ ут бд 1с предприят вм...\n",
      "5                                           настро принтер\n",
      "6        необходим увелич обь дисков пространств сервер...\n",
      "7        прош объясн отража код увольнен сотрудник осно...\n",
      "8                прош установ рабоч ноутбук программ pdf24\n",
      "9        добр ден треб картридж принтер hp officejet pr...\n",
      "10       браузер пропа кнопк импорт резюм е стафф пропа...\n",
      "11       коллег здравств \\nу наш служб завтр 02 11 2018...\n",
      "12       авт 6 1 11 грузополучател продторг выгружа 1с ...\n",
      "13       прош заблокирова учетн дан связ увольнен работ...\n",
      "14       прош заблокирова учетн дан связ увольнен работ...\n",
      "15       увольнен оа эфк княз дмитр юрьевич электромонт...\n",
      "16                                            зам картридж\n",
      "17       прош нов сотрудник созда учетн зап подобра ноу...\n",
      "18       прош обнов тестов баз 1 бухгалтер srvr alkuk 1...\n",
      "19       необхлдим зам кадтридж lazer jet pro 400 mfp m...\n",
      "20       необходим связ переезд пользовател сидор перек...\n",
      "21       работа надстройк тм exceltobufaddin индексн фа...\n",
      "22       необходим доработк систем част \\n1 изменен пар...\n",
      "23                                             работа skyp\n",
      "24                   отказ доступ бд электрон правительств\n",
      "25           провест профилактическ работ сетев оборудован\n",
      "26       кажд утр работ выскакиет сообщен обновлен крип...\n",
      "27       добр ден проверк формирован отчет сзв стаж 9 м...\n",
      "28       силинск ольг петровн заместител генеральн дире...\n",
      "29       покупк ноутбук оффис мыш сумк нов сотрудник ме...\n",
      "                               ...                        \n",
      "22936    просьб блокирова учетн дан след сотрудник 1 ер...\n",
      "22937                прош установ крипт csp плагин дикарев\n",
      "22938            выключа компьютер исчеза ярлык рабоч стол\n",
      "22939          отсутств шрифт europ ms word просьб установ\n",
      "22940    прош установ ут мжд активн вкладк внешн обрабо...\n",
      "22941    увол сотрудник оо кубанск масл четин як яковле...\n",
      "22942    добр ден просьб настро удален доступ выполнен ...\n",
      "22943    необходим ответствен площадк специалист провес...\n",
      "22944    отсутств возможн отправля сообщен почт пишет н...\n",
      "22945    необходим настро выдач 2 приобретен ноутбук ск...\n",
      "22946    прош предостав прав чтен зап ресурс ванк 192 1...\n",
      "22947    просьб откр прав доступ аналогичн пользовател ...\n",
      "22948    связ прием юридическ отдел мсд рощупкин н прош...\n",
      "22949    возможн дополнительн отчет материальн отчет на...\n",
      "22950    прош инициализирова обновлен skyp актуальн вер...\n",
      "22951     добав кнопк созда договор счет расчет контрагент\n",
      "22952                       прош предостав доступ чекпоинт\n",
      "22953    загрузк документ 1с ур вывод служебн сообщен т...\n",
      "22954    прош предостав доступ локальн сет wi fi гостев...\n",
      "22955    создан реализац расходн ордер помощ встроен об...\n",
      "22956    отчет 4 фсс заполня правильн 5 таблиц заполня ...\n",
      "22957    основан заявк № it443284 28 03 2019 необходим ...\n",
      "22958           просьб дат доступ раздел табел функц созда\n",
      "22959    просьб дат доступ функц закрыт месяц т дан фун...\n",
      "22960    увол сотрудник шерекин андр андреевич оо крц э...\n",
      "22961    корректн работа приложен powerpoint зависа сла...\n",
      "22962    просьб предостав доступ power bi территориальн...\n",
      "22963    создан настройк учетн запис внов принят сотруд...\n",
      "22964    прош откр доступ иб электрон блокнот заместите...\n",
      "22965    прош откр доступ информацион баз сэд 2 0 замес...\n",
      "Name: text_format, Length: 22886, dtype: object>]\n",
      " ['Прошу включить регламентные задания в базе 1С Srvr=\"alkuka-1cdev\";Ref=\"AlkKrcTrade_PonomarevProg\";\\nВ консоли заданий все лишние регламентные задания отключены.'\n",
      "  'ПО и оборудование'\n",
      "  'Запрос на обслуживание (настройка рабочего места, предоставление доступа, установка ПО)'\n",
      "  'прош включ регламентн задан баз 1с srvr alkuk 1cdev ref alkkrctrad ponomarevprog \\nв консол задан лишн регламентн задан отключ'\n",
      "  <bound method NDFrame.copy of 0        ежедневн контрол работоспособн сист видеонаблюден\n",
      "1                   связ увольнен прош приня ноутбук склад\n",
      "2                            выбира назван граф перевозчик\n",
      "3        выписк пропуск выбор организац ип михайленк юр...\n",
      "4        выписк документ программ ут бд 1с предприят вм...\n",
      "5                                           настро принтер\n",
      "6        необходим увелич обь дисков пространств сервер...\n",
      "7        прош объясн отража код увольнен сотрудник осно...\n",
      "8                прош установ рабоч ноутбук программ pdf24\n",
      "9        добр ден треб картридж принтер hp officejet pr...\n",
      "10       браузер пропа кнопк импорт резюм е стафф пропа...\n",
      "11       коллег здравств \\nу наш служб завтр 02 11 2018...\n",
      "12       авт 6 1 11 грузополучател продторг выгружа 1с ...\n",
      "13       прош заблокирова учетн дан связ увольнен работ...\n",
      "14       прош заблокирова учетн дан связ увольнен работ...\n",
      "15       увольнен оа эфк княз дмитр юрьевич электромонт...\n",
      "16                                            зам картридж\n",
      "17       прош нов сотрудник созда учетн зап подобра ноу...\n",
      "18       прош обнов тестов баз 1 бухгалтер srvr alkuk 1...\n",
      "19       необхлдим зам кадтридж lazer jet pro 400 mfp m...\n",
      "20       необходим связ переезд пользовател сидор перек...\n",
      "21       работа надстройк тм exceltobufaddin индексн фа...\n",
      "22       необходим доработк систем част \\n1 изменен пар...\n",
      "23                                             работа skyp\n",
      "24                   отказ доступ бд электрон правительств\n",
      "25           провест профилактическ работ сетев оборудован\n",
      "26       кажд утр работ выскакиет сообщен обновлен крип...\n",
      "27       добр ден проверк формирован отчет сзв стаж 9 м...\n",
      "28       силинск ольг петровн заместител генеральн дире...\n",
      "29       покупк ноутбук оффис мыш сумк нов сотрудник ме...\n",
      "                               ...                        \n",
      "22936    просьб блокирова учетн дан след сотрудник 1 ер...\n",
      "22937                прош установ крипт csp плагин дикарев\n",
      "22938            выключа компьютер исчеза ярлык рабоч стол\n",
      "22939          отсутств шрифт europ ms word просьб установ\n",
      "22940    прош установ ут мжд активн вкладк внешн обрабо...\n",
      "22941    увол сотрудник оо кубанск масл четин як яковле...\n",
      "22942    добр ден просьб настро удален доступ выполнен ...\n",
      "22943    необходим ответствен площадк специалист провес...\n",
      "22944    отсутств возможн отправля сообщен почт пишет н...\n",
      "22945    необходим настро выдач 2 приобретен ноутбук ск...\n",
      "22946    прош предостав прав чтен зап ресурс ванк 192 1...\n",
      "22947    просьб откр прав доступ аналогичн пользовател ...\n",
      "22948    связ прием юридическ отдел мсд рощупкин н прош...\n",
      "22949    возможн дополнительн отчет материальн отчет на...\n",
      "22950    прош инициализирова обновлен skyp актуальн вер...\n",
      "22951     добав кнопк созда договор счет расчет контрагент\n",
      "22952                       прош предостав доступ чекпоинт\n",
      "22953    загрузк документ 1с ур вывод служебн сообщен т...\n",
      "22954    прош предостав доступ локальн сет wi fi гостев...\n",
      "22955    создан реализац расходн ордер помощ встроен об...\n",
      "22956    отчет 4 фсс заполня правильн 5 таблиц заполня ...\n",
      "22957    основан заявк № it443284 28 03 2019 необходим ...\n",
      "22958           просьб дат доступ раздел табел функц созда\n",
      "22959    просьб дат доступ функц закрыт месяц т дан фун...\n",
      "22960    увол сотрудник шерекин андр андреевич оо крц э...\n",
      "22961    корректн работа приложен powerpoint зависа сла...\n",
      "22962    просьб предостав доступ power bi территориальн...\n",
      "22963    создан настройк учетн запис внов принят сотруд...\n",
      "22964    прош откр доступ иб электрон блокнот заместите...\n",
      "22965    прош откр доступ информацион баз сэд 2 0 замес...\n",
      "Name: text_format, Length: 22886, dtype: object>]\n",
      " ['Прошу настроить рабочее место на новом ноутбуке, в т.ч. перенести данные из нынешнего ноутбука и стационарного компьютера, установить шрифт Европа.'\n",
      "  'ПО и оборудование'\n",
      "  'Запрос на обслуживание (настройка рабочего места, предоставление доступа, установка ПО)'\n",
      "  'прош настро рабоч мест нов ноутбук т ч перенест дан нынешн ноутбук стационарн компьютер установ шрифт европ'\n",
      "  <bound method NDFrame.copy of 0        ежедневн контрол работоспособн сист видеонаблюден\n",
      "1                   связ увольнен прош приня ноутбук склад\n",
      "2                            выбира назван граф перевозчик\n",
      "3        выписк пропуск выбор организац ип михайленк юр...\n",
      "4        выписк документ программ ут бд 1с предприят вм...\n",
      "5                                           настро принтер\n",
      "6        необходим увелич обь дисков пространств сервер...\n",
      "7        прош объясн отража код увольнен сотрудник осно...\n",
      "8                прош установ рабоч ноутбук программ pdf24\n",
      "9        добр ден треб картридж принтер hp officejet pr...\n",
      "10       браузер пропа кнопк импорт резюм е стафф пропа...\n",
      "11       коллег здравств \\nу наш служб завтр 02 11 2018...\n",
      "12       авт 6 1 11 грузополучател продторг выгружа 1с ...\n",
      "13       прош заблокирова учетн дан связ увольнен работ...\n",
      "14       прош заблокирова учетн дан связ увольнен работ...\n",
      "15       увольнен оа эфк княз дмитр юрьевич электромонт...\n",
      "16                                            зам картридж\n",
      "17       прош нов сотрудник созда учетн зап подобра ноу...\n",
      "18       прош обнов тестов баз 1 бухгалтер srvr alkuk 1...\n",
      "19       необхлдим зам кадтридж lazer jet pro 400 mfp m...\n",
      "20       необходим связ переезд пользовател сидор перек...\n",
      "21       работа надстройк тм exceltobufaddin индексн фа...\n",
      "22       необходим доработк систем част \\n1 изменен пар...\n",
      "23                                             работа skyp\n",
      "24                   отказ доступ бд электрон правительств\n",
      "25           провест профилактическ работ сетев оборудован\n",
      "26       кажд утр работ выскакиет сообщен обновлен крип...\n",
      "27       добр ден проверк формирован отчет сзв стаж 9 м...\n",
      "28       силинск ольг петровн заместител генеральн дире...\n",
      "29       покупк ноутбук оффис мыш сумк нов сотрудник ме...\n",
      "                               ...                        \n",
      "22936    просьб блокирова учетн дан след сотрудник 1 ер...\n",
      "22937                прош установ крипт csp плагин дикарев\n",
      "22938            выключа компьютер исчеза ярлык рабоч стол\n",
      "22939          отсутств шрифт europ ms word просьб установ\n",
      "22940    прош установ ут мжд активн вкладк внешн обрабо...\n",
      "22941    увол сотрудник оо кубанск масл четин як яковле...\n",
      "22942    добр ден просьб настро удален доступ выполнен ...\n",
      "22943    необходим ответствен площадк специалист провес...\n",
      "22944    отсутств возможн отправля сообщен почт пишет н...\n",
      "22945    необходим настро выдач 2 приобретен ноутбук ск...\n",
      "22946    прош предостав прав чтен зап ресурс ванк 192 1...\n",
      "22947    просьб откр прав доступ аналогичн пользовател ...\n",
      "22948    связ прием юридическ отдел мсд рощупкин н прош...\n",
      "22949    возможн дополнительн отчет материальн отчет на...\n",
      "22950    прош инициализирова обновлен skyp актуальн вер...\n",
      "22951     добав кнопк созда договор счет расчет контрагент\n",
      "22952                       прош предостав доступ чекпоинт\n",
      "22953    загрузк документ 1с ур вывод служебн сообщен т...\n",
      "22954    прош предостав доступ локальн сет wi fi гостев...\n",
      "22955    создан реализац расходн ордер помощ встроен об...\n",
      "22956    отчет 4 фсс заполня правильн 5 таблиц заполня ...\n",
      "22957    основан заявк № it443284 28 03 2019 необходим ...\n",
      "22958           просьб дат доступ раздел табел функц созда\n",
      "22959    просьб дат доступ функц закрыт месяц т дан фун...\n",
      "22960    увол сотрудник шерекин андр андреевич оо крц э...\n",
      "22961    корректн работа приложен powerpoint зависа сла...\n",
      "22962    просьб предостав доступ power bi территориальн...\n",
      "22963    создан настройк учетн запис внов принят сотруд...\n",
      "22964    прош откр доступ иб электрон блокнот заместите...\n",
      "22965    прош откр доступ информацион баз сэд 2 0 замес...\n",
      "Name: text_format, Length: 22886, dtype: object>]\n",
      " ...\n",
      " ['Прохождение плана обучения, повышения, подтверждения уровня знаний и компетенций - Хвоев Дмитрий.\\nНеобходимо ознакомиться с вложенным планом. Обозначить очередность и сроки поэтапного изучения, решения практических задач. По результатам совместного обсуждения и согласования сроков приступить к выполнению.'\n",
      "  'ПО и оборудование'\n",
      "  'Проект (создание новой инфраструктуры, открытие нового офиса)'\n",
      "  'прохожден план обучен повышен подтвержден уровн знан компетенц хво дмитр \\nнеобходим ознаком вложен план обознач очередн срок поэтапн изучен решен практическ задач результат совместн обсужден согласован срок приступ выполнен'\n",
      "  <bound method NDFrame.copy of 0        ежедневн контрол работоспособн сист видеонаблюден\n",
      "1                   связ увольнен прош приня ноутбук склад\n",
      "2                            выбира назван граф перевозчик\n",
      "3        выписк пропуск выбор организац ип михайленк юр...\n",
      "4        выписк документ программ ут бд 1с предприят вм...\n",
      "5                                           настро принтер\n",
      "6        необходим увелич обь дисков пространств сервер...\n",
      "7        прош объясн отража код увольнен сотрудник осно...\n",
      "8                прош установ рабоч ноутбук программ pdf24\n",
      "9        добр ден треб картридж принтер hp officejet pr...\n",
      "10       браузер пропа кнопк импорт резюм е стафф пропа...\n",
      "11       коллег здравств \\nу наш служб завтр 02 11 2018...\n",
      "12       авт 6 1 11 грузополучател продторг выгружа 1с ...\n",
      "13       прош заблокирова учетн дан связ увольнен работ...\n",
      "14       прош заблокирова учетн дан связ увольнен работ...\n",
      "15       увольнен оа эфк княз дмитр юрьевич электромонт...\n",
      "16                                            зам картридж\n",
      "17       прош нов сотрудник созда учетн зап подобра ноу...\n",
      "18       прош обнов тестов баз 1 бухгалтер srvr alkuk 1...\n",
      "19       необхлдим зам кадтридж lazer jet pro 400 mfp m...\n",
      "20       необходим связ переезд пользовател сидор перек...\n",
      "21       работа надстройк тм exceltobufaddin индексн фа...\n",
      "22       необходим доработк систем част \\n1 изменен пар...\n",
      "23                                             работа skyp\n",
      "24                   отказ доступ бд электрон правительств\n",
      "25           провест профилактическ работ сетев оборудован\n",
      "26       кажд утр работ выскакиет сообщен обновлен крип...\n",
      "27       добр ден проверк формирован отчет сзв стаж 9 м...\n",
      "28       силинск ольг петровн заместител генеральн дире...\n",
      "29       покупк ноутбук оффис мыш сумк нов сотрудник ме...\n",
      "                               ...                        \n",
      "22936    просьб блокирова учетн дан след сотрудник 1 ер...\n",
      "22937                прош установ крипт csp плагин дикарев\n",
      "22938            выключа компьютер исчеза ярлык рабоч стол\n",
      "22939          отсутств шрифт europ ms word просьб установ\n",
      "22940    прош установ ут мжд активн вкладк внешн обрабо...\n",
      "22941    увол сотрудник оо кубанск масл четин як яковле...\n",
      "22942    добр ден просьб настро удален доступ выполнен ...\n",
      "22943    необходим ответствен площадк специалист провес...\n",
      "22944    отсутств возможн отправля сообщен почт пишет н...\n",
      "22945    необходим настро выдач 2 приобретен ноутбук ск...\n",
      "22946    прош предостав прав чтен зап ресурс ванк 192 1...\n",
      "22947    просьб откр прав доступ аналогичн пользовател ...\n",
      "22948    связ прием юридическ отдел мсд рощупкин н прош...\n",
      "22949    возможн дополнительн отчет материальн отчет на...\n",
      "22950    прош инициализирова обновлен skyp актуальн вер...\n",
      "22951     добав кнопк созда договор счет расчет контрагент\n",
      "22952                       прош предостав доступ чекпоинт\n",
      "22953    загрузк документ 1с ур вывод служебн сообщен т...\n",
      "22954    прош предостав доступ локальн сет wi fi гостев...\n",
      "22955    создан реализац расходн ордер помощ встроен об...\n",
      "22956    отчет 4 фсс заполня правильн 5 таблиц заполня ...\n",
      "22957    основан заявк № it443284 28 03 2019 необходим ...\n",
      "22958           просьб дат доступ раздел табел функц созда\n",
      "22959    просьб дат доступ функц закрыт месяц т дан фун...\n",
      "22960    увол сотрудник шерекин андр андреевич оо крц э...\n",
      "22961    корректн работа приложен powerpoint зависа сла...\n",
      "22962    просьб предостав доступ power bi территориальн...\n",
      "22963    создан настройк учетн запис внов принят сотруд...\n",
      "22964    прош откр доступ иб электрон блокнот заместите...\n",
      "22965    прош откр доступ информацион баз сэд 2 0 замес...\n",
      "Name: text_format, Length: 22886, dtype: object>]\n",
      " ['Подготовка стойки для установки оборудования' 'ПО и оборудование'\n",
      "  'Проект (создание новой инфраструктуры, открытие нового офиса)'\n",
      "  'подготовк стойк установк оборудован'\n",
      "  <bound method NDFrame.copy of 0        ежедневн контрол работоспособн сист видеонаблюден\n",
      "1                   связ увольнен прош приня ноутбук склад\n",
      "2                            выбира назван граф перевозчик\n",
      "3        выписк пропуск выбор организац ип михайленк юр...\n",
      "4        выписк документ программ ут бд 1с предприят вм...\n",
      "5                                           настро принтер\n",
      "6        необходим увелич обь дисков пространств сервер...\n",
      "7        прош объясн отража код увольнен сотрудник осно...\n",
      "8                прош установ рабоч ноутбук программ pdf24\n",
      "9        добр ден треб картридж принтер hp officejet pr...\n",
      "10       браузер пропа кнопк импорт резюм е стафф пропа...\n",
      "11       коллег здравств \\nу наш служб завтр 02 11 2018...\n",
      "12       авт 6 1 11 грузополучател продторг выгружа 1с ...\n",
      "13       прош заблокирова учетн дан связ увольнен работ...\n",
      "14       прош заблокирова учетн дан связ увольнен работ...\n",
      "15       увольнен оа эфк княз дмитр юрьевич электромонт...\n",
      "16                                            зам картридж\n",
      "17       прош нов сотрудник созда учетн зап подобра ноу...\n",
      "18       прош обнов тестов баз 1 бухгалтер srvr alkuk 1...\n",
      "19       необхлдим зам кадтридж lazer jet pro 400 mfp m...\n",
      "20       необходим связ переезд пользовател сидор перек...\n",
      "21       работа надстройк тм exceltobufaddin индексн фа...\n",
      "22       необходим доработк систем част \\n1 изменен пар...\n",
      "23                                             работа skyp\n",
      "24                   отказ доступ бд электрон правительств\n",
      "25           провест профилактическ работ сетев оборудован\n",
      "26       кажд утр работ выскакиет сообщен обновлен крип...\n",
      "27       добр ден проверк формирован отчет сзв стаж 9 м...\n",
      "28       силинск ольг петровн заместител генеральн дире...\n",
      "29       покупк ноутбук оффис мыш сумк нов сотрудник ме...\n",
      "                               ...                        \n",
      "22936    просьб блокирова учетн дан след сотрудник 1 ер...\n",
      "22937                прош установ крипт csp плагин дикарев\n",
      "22938            выключа компьютер исчеза ярлык рабоч стол\n",
      "22939          отсутств шрифт europ ms word просьб установ\n",
      "22940    прош установ ут мжд активн вкладк внешн обрабо...\n",
      "22941    увол сотрудник оо кубанск масл четин як яковле...\n",
      "22942    добр ден просьб настро удален доступ выполнен ...\n",
      "22943    необходим ответствен площадк специалист провес...\n",
      "22944    отсутств возможн отправля сообщен почт пишет н...\n",
      "22945    необходим настро выдач 2 приобретен ноутбук ск...\n",
      "22946    прош предостав прав чтен зап ресурс ванк 192 1...\n",
      "22947    просьб откр прав доступ аналогичн пользовател ...\n",
      "22948    связ прием юридическ отдел мсд рощупкин н прош...\n",
      "22949    возможн дополнительн отчет материальн отчет на...\n",
      "22950    прош инициализирова обновлен skyp актуальн вер...\n",
      "22951     добав кнопк созда договор счет расчет контрагент\n",
      "22952                       прош предостав доступ чекпоинт\n",
      "22953    загрузк документ 1с ур вывод служебн сообщен т...\n",
      "22954    прош предостав доступ локальн сет wi fi гостев...\n",
      "22955    создан реализац расходн ордер помощ встроен об...\n",
      "22956    отчет 4 фсс заполня правильн 5 таблиц заполня ...\n",
      "22957    основан заявк № it443284 28 03 2019 необходим ...\n",
      "22958           просьб дат доступ раздел табел функц созда\n",
      "22959    просьб дат доступ функц закрыт месяц т дан фун...\n",
      "22960    увол сотрудник шерекин андр андреевич оо крц э...\n",
      "22961    корректн работа приложен powerpoint зависа сла...\n",
      "22962    просьб предостав доступ power bi территориальн...\n",
      "22963    создан настройк учетн запис внов принят сотруд...\n",
      "22964    прош откр доступ иб электрон блокнот заместите...\n",
      "22965    прош откр доступ информацион баз сэд 2 0 замес...\n",
      "Name: text_format, Length: 22886, dtype: object>]\n",
      " ['Работы по обращениям от пользователей на субботнем дежурстве 13.04.19'\n",
      "  'ПО и оборудование'\n",
      "  'Проект (создание новой инфраструктуры, открытие нового офиса)'\n",
      "  'работ обращен пользовател субботн дежурств 13 04 19'\n",
      "  <bound method NDFrame.copy of 0        ежедневн контрол работоспособн сист видеонаблюден\n",
      "1                   связ увольнен прош приня ноутбук склад\n",
      "2                            выбира назван граф перевозчик\n",
      "3        выписк пропуск выбор организац ип михайленк юр...\n",
      "4        выписк документ программ ут бд 1с предприят вм...\n",
      "5                                           настро принтер\n",
      "6        необходим увелич обь дисков пространств сервер...\n",
      "7        прош объясн отража код увольнен сотрудник осно...\n",
      "8                прош установ рабоч ноутбук программ pdf24\n",
      "9        добр ден треб картридж принтер hp officejet pr...\n",
      "10       браузер пропа кнопк импорт резюм е стафф пропа...\n",
      "11       коллег здравств \\nу наш служб завтр 02 11 2018...\n",
      "12       авт 6 1 11 грузополучател продторг выгружа 1с ...\n",
      "13       прош заблокирова учетн дан связ увольнен работ...\n",
      "14       прош заблокирова учетн дан связ увольнен работ...\n",
      "15       увольнен оа эфк княз дмитр юрьевич электромонт...\n",
      "16                                            зам картридж\n",
      "17       прош нов сотрудник созда учетн зап подобра ноу...\n",
      "18       прош обнов тестов баз 1 бухгалтер srvr alkuk 1...\n",
      "19       необхлдим зам кадтридж lazer jet pro 400 mfp m...\n",
      "20       необходим связ переезд пользовател сидор перек...\n",
      "21       работа надстройк тм exceltobufaddin индексн фа...\n",
      "22       необходим доработк систем част \\n1 изменен пар...\n",
      "23                                             работа skyp\n",
      "24                   отказ доступ бд электрон правительств\n",
      "25           провест профилактическ работ сетев оборудован\n",
      "26       кажд утр работ выскакиет сообщен обновлен крип...\n",
      "27       добр ден проверк формирован отчет сзв стаж 9 м...\n",
      "28       силинск ольг петровн заместител генеральн дире...\n",
      "29       покупк ноутбук оффис мыш сумк нов сотрудник ме...\n",
      "                               ...                        \n",
      "22936    просьб блокирова учетн дан след сотрудник 1 ер...\n",
      "22937                прош установ крипт csp плагин дикарев\n",
      "22938            выключа компьютер исчеза ярлык рабоч стол\n",
      "22939          отсутств шрифт europ ms word просьб установ\n",
      "22940    прош установ ут мжд активн вкладк внешн обрабо...\n",
      "22941    увол сотрудник оо кубанск масл четин як яковле...\n",
      "22942    добр ден просьб настро удален доступ выполнен ...\n",
      "22943    необходим ответствен площадк специалист провес...\n",
      "22944    отсутств возможн отправля сообщен почт пишет н...\n",
      "22945    необходим настро выдач 2 приобретен ноутбук ск...\n",
      "22946    прош предостав прав чтен зап ресурс ванк 192 1...\n",
      "22947    просьб откр прав доступ аналогичн пользовател ...\n",
      "22948    связ прием юридическ отдел мсд рощупкин н прош...\n",
      "22949    возможн дополнительн отчет материальн отчет на...\n",
      "22950    прош инициализирова обновлен skyp актуальн вер...\n",
      "22951     добав кнопк созда договор счет расчет контрагент\n",
      "22952                       прош предостав доступ чекпоинт\n",
      "22953    загрузк документ 1с ур вывод служебн сообщен т...\n",
      "22954    прош предостав доступ локальн сет wi fi гостев...\n",
      "22955    создан реализац расходн ордер помощ встроен об...\n",
      "22956    отчет 4 фсс заполня правильн 5 таблиц заполня ...\n",
      "22957    основан заявк № it443284 28 03 2019 необходим ...\n",
      "22958           просьб дат доступ раздел табел функц созда\n",
      "22959    просьб дат доступ функц закрыт месяц т дан фун...\n",
      "22960    увол сотрудник шерекин андр андреевич оо крц э...\n",
      "22961    корректн работа приложен powerpoint зависа сла...\n",
      "22962    просьб предостав доступ power bi территориальн...\n",
      "22963    создан настройк учетн запис внов принят сотруд...\n",
      "22964    прош откр доступ иб электрон блокнот заместите...\n",
      "22965    прош откр доступ информацион баз сэд 2 0 замес...\n",
      "Name: text_format, Length: 22886, dtype: object>]]\n"
     ]
    }
   ],
   "source": [
    "from collections import Counter\n",
    "#X = data[(data.columns[-2])]\n",
    "X = tfidf_matrix\n",
    "print(X.shape)\n",
    "#data.drop(['vectorizer1'], axis = 1)\n",
    "y = data[(data.columns[-1])]\n",
    "rus = RandomUnderSampler(random_state=0)\n",
    "X1_resampled, y_resampled = rus.fit_resample(dat1 , y)\n",
    "print(sorted(Counter(y_resampled).items()))\n",
    "print(X1_resampled)\n"
   ]
  },
  {
   "cell_type": "code",
   "execution_count": 217,
   "metadata": {},
   "outputs": [
    {
     "data": {
      "text/plain": [
       "<22886x330 sparse matrix of type '<class 'numpy.float64'>'\n",
       "\twith 7552380 stored elements in Compressed Sparse Row format>"
      ]
     },
     "execution_count": 217,
     "metadata": {},
     "output_type": "execute_result"
    }
   ],
   "source": [
    "tfidf_matrix"
   ]
  },
  {
   "cell_type": "code",
   "execution_count": 35,
   "metadata": {},
   "outputs": [
    {
     "data": {
      "text/plain": [
       "<100x330 sparse matrix of type '<class 'numpy.float64'>'\n",
       "\twith 33000 stored elements in Compressed Sparse Row format>"
      ]
     },
     "execution_count": 35,
     "metadata": {},
     "output_type": "execute_result"
    }
   ],
   "source": [
    "tfidf_matrix[0:100]"
   ]
  },
  {
   "cell_type": "code",
   "execution_count": 49,
   "metadata": {},
   "outputs": [
    {
     "ename": "ValueError",
     "evalue": "too many values to unpack (expected 2)",
     "output_type": "error",
     "traceback": [
      "\u001b[1;31m---------------------------------------------------------------------------\u001b[0m",
      "\u001b[1;31mValueError\u001b[0m                                Traceback (most recent call last)",
      "\u001b[1;32m<ipython-input-49-90b4ff100446>\u001b[0m in \u001b[0;36m<module>\u001b[1;34m\u001b[0m\n\u001b[0;32m      1\u001b[0m \u001b[1;32mfrom\u001b[0m \u001b[0msklearn\u001b[0m\u001b[1;33m.\u001b[0m\u001b[0mmodel_selection\u001b[0m \u001b[1;32mimport\u001b[0m \u001b[0mtrain_test_split\u001b[0m\u001b[1;33m\u001b[0m\u001b[1;33m\u001b[0m\u001b[0m\n\u001b[0;32m      2\u001b[0m \u001b[1;32mimport\u001b[0m \u001b[0mnumpy\u001b[0m \u001b[1;32mas\u001b[0m \u001b[0mnp\u001b[0m\u001b[1;33m\u001b[0m\u001b[1;33m\u001b[0m\u001b[0m\n\u001b[1;32m----> 3\u001b[1;33m \u001b[0mtrain\u001b[0m\u001b[1;33m,\u001b[0m \u001b[0mtest\u001b[0m \u001b[1;33m=\u001b[0m \u001b[0mtrain_test_split\u001b[0m\u001b[1;33m(\u001b[0m\u001b[0mtfidf_matrix\u001b[0m\u001b[1;33m[\u001b[0m\u001b[1;36m0\u001b[0m\u001b[1;33m:\u001b[0m\u001b[1;36m10\u001b[0m\u001b[1;33m]\u001b[0m\u001b[1;33m,\u001b[0m\u001b[0mdata\u001b[0m\u001b[1;33m[\u001b[0m\u001b[1;34m'category_id'\u001b[0m\u001b[1;33m]\u001b[0m\u001b[1;33m[\u001b[0m\u001b[1;36m0\u001b[0m\u001b[1;33m:\u001b[0m\u001b[1;36m10\u001b[0m\u001b[1;33m]\u001b[0m\u001b[1;33m,\u001b[0m \u001b[0mtrain_size\u001b[0m \u001b[1;33m=\u001b[0m \u001b[1;36m0.8\u001b[0m \u001b[1;33m)\u001b[0m\u001b[1;33m\u001b[0m\u001b[1;33m\u001b[0m\u001b[0m\n\u001b[0m",
      "\u001b[1;31mValueError\u001b[0m: too many values to unpack (expected 2)"
     ]
    }
   ],
   "source": [
    "from sklearn.model_selection import train_test_split\n",
    "import numpy as np\n",
    "train, test = train_test_split(tfidf_matrix[0:10],data['category_id'][0:10], train_size = 0.8 )"
   ]
  },
  {
   "cell_type": "code",
   "execution_count": 47,
   "metadata": {},
   "outputs": [
    {
     "data": {
      "text/plain": [
       "0    0\n",
       "1    0\n",
       "2    1\n",
       "3    1\n",
       "4    1\n",
       "5    0\n",
       "6    0\n",
       "7    2\n",
       "8    0\n",
       "9    0\n",
       "Name: category_id, dtype: int64"
      ]
     },
     "execution_count": 47,
     "metadata": {},
     "output_type": "execute_result"
    }
   ],
   "source": [
    "tfidf_matrix.shape[0]\n",
    "data['category_id'][0:10]\n",
    "data[''][0:10]"
   ]
  },
  {
   "cell_type": "code",
   "execution_count": 48,
   "metadata": {},
   "outputs": [
    {
     "data": {
      "text/plain": [
       "(10, 330)"
      ]
     },
     "execution_count": 48,
     "metadata": {},
     "output_type": "execute_result"
    }
   ],
   "source": [
    "tfidf_matrix[0:10].shape"
   ]
  },
  {
   "cell_type": "code",
   "execution_count": 219,
   "metadata": {},
   "outputs": [
    {
     "ename": "ValueError",
     "evalue": "could not convert string to float: 'Прошу установить на ноутбуке программу Консультант Плюс.'",
     "output_type": "error",
     "traceback": [
      "\u001b[1;31m---------------------------------------------------------------------------\u001b[0m",
      "\u001b[1;31mValueError\u001b[0m                                Traceback (most recent call last)",
      "\u001b[1;32m<ipython-input-219-71bb5ede9bbb>\u001b[0m in \u001b[0;36m<module>\u001b[1;34m\u001b[0m\n\u001b[0;32m      1\u001b[0m \u001b[1;32mfrom\u001b[0m \u001b[0msklearn\u001b[0m\u001b[1;33m.\u001b[0m\u001b[0mnaive_bayes\u001b[0m \u001b[1;32mimport\u001b[0m \u001b[0mMultinomialNB\u001b[0m\u001b[1;33m\u001b[0m\u001b[1;33m\u001b[0m\u001b[0m\n\u001b[1;32m----> 2\u001b[1;33m \u001b[0mclf\u001b[0m \u001b[1;33m=\u001b[0m \u001b[0mMultinomialNB\u001b[0m\u001b[1;33m(\u001b[0m\u001b[1;33m)\u001b[0m\u001b[1;33m.\u001b[0m\u001b[0mfit\u001b[0m\u001b[1;33m(\u001b[0m\u001b[0mX_resampled\u001b[0m\u001b[1;33m,\u001b[0m\u001b[0my_resampled\u001b[0m\u001b[1;33m)\u001b[0m\u001b[1;33m\u001b[0m\u001b[1;33m\u001b[0m\u001b[0m\n\u001b[0m",
      "\u001b[1;32m~\\AppData\\Local\\Continuum\\anaconda3\\envs\\NLP_env\\lib\\site-packages\\sklearn\\naive_bayes.py\u001b[0m in \u001b[0;36mfit\u001b[1;34m(self, X, y, sample_weight)\u001b[0m\n\u001b[0;32m    583\u001b[0m         \u001b[0mself\u001b[0m \u001b[1;33m:\u001b[0m \u001b[0mobject\u001b[0m\u001b[1;33m\u001b[0m\u001b[1;33m\u001b[0m\u001b[0m\n\u001b[0;32m    584\u001b[0m         \"\"\"\n\u001b[1;32m--> 585\u001b[1;33m         \u001b[0mX\u001b[0m\u001b[1;33m,\u001b[0m \u001b[0my\u001b[0m \u001b[1;33m=\u001b[0m \u001b[0mcheck_X_y\u001b[0m\u001b[1;33m(\u001b[0m\u001b[0mX\u001b[0m\u001b[1;33m,\u001b[0m \u001b[0my\u001b[0m\u001b[1;33m,\u001b[0m \u001b[1;34m'csr'\u001b[0m\u001b[1;33m)\u001b[0m\u001b[1;33m\u001b[0m\u001b[1;33m\u001b[0m\u001b[0m\n\u001b[0m\u001b[0;32m    586\u001b[0m         \u001b[0m_\u001b[0m\u001b[1;33m,\u001b[0m \u001b[0mn_features\u001b[0m \u001b[1;33m=\u001b[0m \u001b[0mX\u001b[0m\u001b[1;33m.\u001b[0m\u001b[0mshape\u001b[0m\u001b[1;33m\u001b[0m\u001b[1;33m\u001b[0m\u001b[0m\n\u001b[0;32m    587\u001b[0m \u001b[1;33m\u001b[0m\u001b[0m\n",
      "\u001b[1;32m~\\AppData\\Local\\Continuum\\anaconda3\\envs\\NLP_env\\lib\\site-packages\\sklearn\\utils\\validation.py\u001b[0m in \u001b[0;36mcheck_X_y\u001b[1;34m(X, y, accept_sparse, accept_large_sparse, dtype, order, copy, force_all_finite, ensure_2d, allow_nd, multi_output, ensure_min_samples, ensure_min_features, y_numeric, warn_on_dtype, estimator)\u001b[0m\n\u001b[0;32m    754\u001b[0m                     \u001b[0mensure_min_features\u001b[0m\u001b[1;33m=\u001b[0m\u001b[0mensure_min_features\u001b[0m\u001b[1;33m,\u001b[0m\u001b[1;33m\u001b[0m\u001b[1;33m\u001b[0m\u001b[0m\n\u001b[0;32m    755\u001b[0m                     \u001b[0mwarn_on_dtype\u001b[0m\u001b[1;33m=\u001b[0m\u001b[0mwarn_on_dtype\u001b[0m\u001b[1;33m,\u001b[0m\u001b[1;33m\u001b[0m\u001b[1;33m\u001b[0m\u001b[0m\n\u001b[1;32m--> 756\u001b[1;33m                     estimator=estimator)\n\u001b[0m\u001b[0;32m    757\u001b[0m     \u001b[1;32mif\u001b[0m \u001b[0mmulti_output\u001b[0m\u001b[1;33m:\u001b[0m\u001b[1;33m\u001b[0m\u001b[1;33m\u001b[0m\u001b[0m\n\u001b[0;32m    758\u001b[0m         y = check_array(y, 'csr', force_all_finite=True, ensure_2d=False,\n",
      "\u001b[1;32m~\\AppData\\Local\\Continuum\\anaconda3\\envs\\NLP_env\\lib\\site-packages\\sklearn\\utils\\validation.py\u001b[0m in \u001b[0;36mcheck_array\u001b[1;34m(array, accept_sparse, accept_large_sparse, dtype, order, copy, force_all_finite, ensure_2d, allow_nd, ensure_min_samples, ensure_min_features, warn_on_dtype, estimator)\u001b[0m\n\u001b[0;32m    525\u001b[0m             \u001b[1;32mtry\u001b[0m\u001b[1;33m:\u001b[0m\u001b[1;33m\u001b[0m\u001b[1;33m\u001b[0m\u001b[0m\n\u001b[0;32m    526\u001b[0m                 \u001b[0mwarnings\u001b[0m\u001b[1;33m.\u001b[0m\u001b[0msimplefilter\u001b[0m\u001b[1;33m(\u001b[0m\u001b[1;34m'error'\u001b[0m\u001b[1;33m,\u001b[0m \u001b[0mComplexWarning\u001b[0m\u001b[1;33m)\u001b[0m\u001b[1;33m\u001b[0m\u001b[1;33m\u001b[0m\u001b[0m\n\u001b[1;32m--> 527\u001b[1;33m                 \u001b[0marray\u001b[0m \u001b[1;33m=\u001b[0m \u001b[0mnp\u001b[0m\u001b[1;33m.\u001b[0m\u001b[0masarray\u001b[0m\u001b[1;33m(\u001b[0m\u001b[0marray\u001b[0m\u001b[1;33m,\u001b[0m \u001b[0mdtype\u001b[0m\u001b[1;33m=\u001b[0m\u001b[0mdtype\u001b[0m\u001b[1;33m,\u001b[0m \u001b[0morder\u001b[0m\u001b[1;33m=\u001b[0m\u001b[0morder\u001b[0m\u001b[1;33m)\u001b[0m\u001b[1;33m\u001b[0m\u001b[1;33m\u001b[0m\u001b[0m\n\u001b[0m\u001b[0;32m    528\u001b[0m             \u001b[1;32mexcept\u001b[0m \u001b[0mComplexWarning\u001b[0m\u001b[1;33m:\u001b[0m\u001b[1;33m\u001b[0m\u001b[1;33m\u001b[0m\u001b[0m\n\u001b[0;32m    529\u001b[0m                 raise ValueError(\"Complex data not supported\\n\"\n",
      "\u001b[1;32m~\\AppData\\Local\\Continuum\\anaconda3\\envs\\NLP_env\\lib\\site-packages\\numpy\\core\\numeric.py\u001b[0m in \u001b[0;36masarray\u001b[1;34m(a, dtype, order)\u001b[0m\n\u001b[0;32m    536\u001b[0m \u001b[1;33m\u001b[0m\u001b[0m\n\u001b[0;32m    537\u001b[0m     \"\"\"\n\u001b[1;32m--> 538\u001b[1;33m     \u001b[1;32mreturn\u001b[0m \u001b[0marray\u001b[0m\u001b[1;33m(\u001b[0m\u001b[0ma\u001b[0m\u001b[1;33m,\u001b[0m \u001b[0mdtype\u001b[0m\u001b[1;33m,\u001b[0m \u001b[0mcopy\u001b[0m\u001b[1;33m=\u001b[0m\u001b[1;32mFalse\u001b[0m\u001b[1;33m,\u001b[0m \u001b[0morder\u001b[0m\u001b[1;33m=\u001b[0m\u001b[0morder\u001b[0m\u001b[1;33m)\u001b[0m\u001b[1;33m\u001b[0m\u001b[1;33m\u001b[0m\u001b[0m\n\u001b[0m\u001b[0;32m    539\u001b[0m \u001b[1;33m\u001b[0m\u001b[0m\n\u001b[0;32m    540\u001b[0m \u001b[1;33m\u001b[0m\u001b[0m\n",
      "\u001b[1;31mValueError\u001b[0m: could not convert string to float: 'Прошу установить на ноутбуке программу Консультант Плюс.'"
     ]
    }
   ],
   "source": [
    "from sklearn.naive_bayes import MultinomialNB\n",
    "clf = MultinomialNB().fit(X_resampled,y_resampled)"
   ]
  },
  {
   "cell_type": "code",
   "execution_count": null,
   "metadata": {},
   "outputs": [],
   "source": []
  },
  {
   "cell_type": "code",
   "execution_count": null,
   "metadata": {},
   "outputs": [],
   "source": []
  },
  {
   "cell_type": "code",
   "execution_count": null,
   "metadata": {},
   "outputs": [],
   "source": [
    "from gensim.models import KeyedVectors\n"
   ]
  },
  {
   "cell_type": "code",
   "execution_count": 161,
   "metadata": {},
   "outputs": [
    {
     "name": "stdout",
     "output_type": "stream",
     "text": [
      "['and', 'document', 'first', 'is', 'one', 'second', 'the', 'third', 'this']\n"
     ]
    },
    {
     "ename": "ValueError",
     "evalue": "Iterable over raw text documents expected, string object received.",
     "output_type": "error",
     "traceback": [
      "\u001b[1;31m---------------------------------------------------------------------------\u001b[0m",
      "\u001b[1;31mValueError\u001b[0m                                Traceback (most recent call last)",
      "\u001b[1;32m<ipython-input-161-da5f22f2503d>\u001b[0m in \u001b[0;36m<module>\u001b[1;34m\u001b[0m\n\u001b[0;32m      9\u001b[0m \u001b[0mprint\u001b[0m\u001b[1;33m(\u001b[0m\u001b[0mvectorizer\u001b[0m\u001b[1;33m.\u001b[0m\u001b[0mget_feature_names\u001b[0m\u001b[1;33m(\u001b[0m\u001b[1;33m)\u001b[0m\u001b[1;33m)\u001b[0m\u001b[1;33m\u001b[0m\u001b[1;33m\u001b[0m\u001b[0m\n\u001b[0;32m     10\u001b[0m \u001b[1;33m\u001b[0m\u001b[0m\n\u001b[1;32m---> 11\u001b[1;33m \u001b[0mprint\u001b[0m\u001b[1;33m(\u001b[0m\u001b[0mvectorizer\u001b[0m\u001b[1;33m.\u001b[0m\u001b[0mtransform\u001b[0m\u001b[1;33m(\u001b[0m\u001b[1;34m'first'\u001b[0m\u001b[1;33m)\u001b[0m\u001b[1;33m)\u001b[0m\u001b[1;33m\u001b[0m\u001b[1;33m\u001b[0m\u001b[0m\n\u001b[0m",
      "\u001b[1;32m~\\AppData\\Local\\Continuum\\anaconda3\\envs\\NLP_env\\lib\\site-packages\\sklearn\\feature_extraction\\text.py\u001b[0m in \u001b[0;36mtransform\u001b[1;34m(self, raw_documents, copy)\u001b[0m\n\u001b[0;32m   1639\u001b[0m         \u001b[0mcheck_is_fitted\u001b[0m\u001b[1;33m(\u001b[0m\u001b[0mself\u001b[0m\u001b[1;33m,\u001b[0m \u001b[1;34m'_tfidf'\u001b[0m\u001b[1;33m,\u001b[0m \u001b[1;34m'The tfidf vector is not fitted'\u001b[0m\u001b[1;33m)\u001b[0m\u001b[1;33m\u001b[0m\u001b[1;33m\u001b[0m\u001b[0m\n\u001b[0;32m   1640\u001b[0m \u001b[1;33m\u001b[0m\u001b[0m\n\u001b[1;32m-> 1641\u001b[1;33m         \u001b[0mX\u001b[0m \u001b[1;33m=\u001b[0m \u001b[0msuper\u001b[0m\u001b[1;33m(\u001b[0m\u001b[0mTfidfVectorizer\u001b[0m\u001b[1;33m,\u001b[0m \u001b[0mself\u001b[0m\u001b[1;33m)\u001b[0m\u001b[1;33m.\u001b[0m\u001b[0mtransform\u001b[0m\u001b[1;33m(\u001b[0m\u001b[0mraw_documents\u001b[0m\u001b[1;33m)\u001b[0m\u001b[1;33m\u001b[0m\u001b[1;33m\u001b[0m\u001b[0m\n\u001b[0m\u001b[0;32m   1642\u001b[0m         \u001b[1;32mreturn\u001b[0m \u001b[0mself\u001b[0m\u001b[1;33m.\u001b[0m\u001b[0m_tfidf\u001b[0m\u001b[1;33m.\u001b[0m\u001b[0mtransform\u001b[0m\u001b[1;33m(\u001b[0m\u001b[0mX\u001b[0m\u001b[1;33m,\u001b[0m \u001b[0mcopy\u001b[0m\u001b[1;33m=\u001b[0m\u001b[1;32mFalse\u001b[0m\u001b[1;33m)\u001b[0m\u001b[1;33m\u001b[0m\u001b[1;33m\u001b[0m\u001b[0m\n",
      "\u001b[1;32m~\\AppData\\Local\\Continuum\\anaconda3\\envs\\NLP_env\\lib\\site-packages\\sklearn\\feature_extraction\\text.py\u001b[0m in \u001b[0;36mtransform\u001b[1;34m(self, raw_documents)\u001b[0m\n\u001b[0;32m   1074\u001b[0m         \u001b[1;32mif\u001b[0m \u001b[0misinstance\u001b[0m\u001b[1;33m(\u001b[0m\u001b[0mraw_documents\u001b[0m\u001b[1;33m,\u001b[0m \u001b[0msix\u001b[0m\u001b[1;33m.\u001b[0m\u001b[0mstring_types\u001b[0m\u001b[1;33m)\u001b[0m\u001b[1;33m:\u001b[0m\u001b[1;33m\u001b[0m\u001b[1;33m\u001b[0m\u001b[0m\n\u001b[0;32m   1075\u001b[0m             raise ValueError(\n\u001b[1;32m-> 1076\u001b[1;33m                 \u001b[1;34m\"Iterable over raw text documents expected, \"\u001b[0m\u001b[1;33m\u001b[0m\u001b[1;33m\u001b[0m\u001b[0m\n\u001b[0m\u001b[0;32m   1077\u001b[0m                 \"string object received.\")\n\u001b[0;32m   1078\u001b[0m \u001b[1;33m\u001b[0m\u001b[0m\n",
      "\u001b[1;31mValueError\u001b[0m: Iterable over raw text documents expected, string object received."
     ]
    }
   ],
   "source": [
    "corpus = [\n",
    "    'This is the first document.',\n",
    "    'This document is the second document.',\n",
    "     'And this is the third one.',\n",
    "     'Is this the first document?',\n",
    " ]\n",
    "vectorizer = TfidfVectorizer()\n",
    "X = vectorizer.fit_transform(corpus)\n",
    "print(vectorizer.get_feature_names())\n",
    "\n",
    "print(vectorizer.transform('first'))"
   ]
  },
  {
   "cell_type": "code",
   "execution_count": 164,
   "metadata": {},
   "outputs": [
    {
     "data": {
      "text/plain": [
       "'Vocabulary content:\\n   (0, 8)\\t0.38408524091481483\\n  (0, 3)\\t0.38408524091481483\\n  (0, 6)\\t0.38408524091481483\\n  (0, 2)\\t0.5802858236844359\\n  (0, 1)\\t0.46979138557992045\\n  (1, 8)\\t0.281088674033753\\n  (1, 3)\\t0.281088674033753\\n  (1, 6)\\t0.281088674033753\\n  (1, 1)\\t0.6876235979836938\\n  (1, 5)\\t0.5386476208856763\\n  (2, 8)\\t0.267103787642168\\n  (2, 3)\\t0.267103787642168\\n  (2, 6)\\t0.267103787642168\\n  (2, 0)\\t0.511848512707169\\n  (2, 7)\\t0.511848512707169\\n  (2, 4)\\t0.511848512707169\\n  (3, 8)\\t0.38408524091481483\\n  (3, 3)\\t0.38408524091481483\\n  (3, 6)\\t0.38408524091481483\\n  (3, 2)\\t0.5802858236844359\\n  (3, 1)\\t0.46979138557992045'"
      ]
     },
     "execution_count": 164,
     "metadata": {},
     "output_type": "execute_result"
    }
   ],
   "source": [
    "\n",
    "#https://www.kaggle.com/adamschroeder/countvectorizer-tfidfvectorizer-predict-comments"
   ]
  },
  {
   "cell_type": "code",
   "execution_count": null,
   "metadata": {},
   "outputs": [],
   "source": [
    "from nltk.stem import WordNetLemmatizer\n",
    "from nltk.tokenize.toktok import ToktokTokenizer\n",
    "def lemma_text(text):\n",
    "    tokenizer = ToktokTokenizer()\n",
    "    tokens = tokenizer.tokenize(text)\n",
    "    tokens = [token.strip() for token in tokens]\n",
    "    tokens = [wordnet_lemmatizer.lemmatize(token) for token in tokens]\n",
    "    return ' '.join(tokens)\n",
    "def clean_sentence(x):\n",
    "    x = x.lower()\n",
    "    x = clean_text(x)\n",
    "    x = clean_numbers(x)\n",
    "    x = replace_typical_misspell(x)\n",
    "    x = remove_stopwords(x)\n",
    "    x = replace_contractions(x)\n",
    "    x = lemma_text(x)\n",
    "    x = x.replace(\"'\",\"\")\n",
    "    return x"
   ]
  },
  {
   "cell_type": "code",
   "execution_count": null,
   "metadata": {},
   "outputs": [],
   "source": []
  }
 ],
 "metadata": {
  "kernelspec": {
   "display_name": "Python 3",
   "language": "python",
   "name": "python3"
  },
  "language_info": {
   "codemirror_mode": {
    "name": "ipython",
    "version": 3
   },
   "file_extension": ".py",
   "mimetype": "text/x-python",
   "name": "python",
   "nbconvert_exporter": "python",
   "pygments_lexer": "ipython3",
   "version": "3.7.3"
  }
 },
 "nbformat": 4,
 "nbformat_minor": 2
}
